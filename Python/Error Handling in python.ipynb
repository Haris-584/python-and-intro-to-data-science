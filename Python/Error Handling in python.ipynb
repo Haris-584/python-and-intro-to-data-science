{
 "cells": [
  {
   "cell_type": "code",
   "execution_count": null,
   "metadata": {},
   "outputs": [],
   "source": [
    "import math \n",
    "\n",
    "for i in range(20):\n",
    "    try:\n",
    "        input_num = input(\"Enter a Number:\")\n",
    "        if input_num == \"quit\":\n",
    "            break\n",
    "        result = math.log(float(input_num))\n",
    "        print(result)\n",
    "    except ValueError:\n",
    "        print(\"input error: value must be greater then 0\")\n",
    "        break\n",
    "    except Exception:\n",
    "        print(\"unknown error\")"
   ]
  },
  {
   "cell_type": "code",
   "execution_count": null,
   "metadata": {},
   "outputs": [],
   "source": [
    "class FirstError (ValueError):\n",
    "    pass"
   ]
  },
  {
   "cell_type": "code",
   "execution_count": null,
   "metadata": {},
   "outputs": [],
   "source": [
    "l1 = [\"welcome\" , \"to\", \"python\"]\n",
    "while True:\n",
    "    input1 = input()\n",
    "    if input1 not in l1:\n",
    "        raise FirstError(\"invlaid error\")\n",
    "        \n",
    "                         "
   ]
  },
  {
   "cell_type": "code",
   "execution_count": null,
   "metadata": {},
   "outputs": [],
   "source": []
  },
  {
   "cell_type": "code",
   "execution_count": null,
   "metadata": {},
   "outputs": [],
   "source": []
  }
 ],
 "metadata": {
  "kernelspec": {
   "display_name": "Python 3",
   "language": "python",
   "name": "python3"
  },
  "language_info": {
   "codemirror_mode": {
    "name": "ipython",
    "version": 3
   },
   "file_extension": ".py",
   "mimetype": "text/x-python",
   "name": "python",
   "nbconvert_exporter": "python",
   "pygments_lexer": "ipython3",
   "version": "3.7.3"
  }
 },
 "nbformat": 4,
 "nbformat_minor": 2
}
